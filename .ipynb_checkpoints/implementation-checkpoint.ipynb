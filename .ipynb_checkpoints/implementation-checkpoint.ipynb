{
 "cells": [
  {
   "cell_type": "code",
   "execution_count": 4,
   "id": "0052f6be",
   "metadata": {},
   "outputs": [],
   "source": [
    "import pandas as pd\n",
    "import numpy as np\n",
    "import os\n",
    "import glob\n",
    "import seaborn as sns\n",
    "import matplotlib.pyplot as plt"
   ]
  },
  {
   "cell_type": "markdown",
   "id": "90824c87",
   "metadata": {},
   "source": [
    "----------------------------------------------------------------------------------------------------------------"
   ]
  },
  {
   "cell_type": "markdown",
   "id": "76146e24",
   "metadata": {},
   "source": [
    "### Split original test set (n=16,249) into validation set (30%, n=4875) and test set (70%, 12,015), and saved as 'EyeQ_split_val' & 'EyeQ_split_test', respectively in 'csv_data/'. "
   ]
  },
  {
   "cell_type": "code",
   "execution_count": 7,
   "id": "e3ed796e",
   "metadata": {},
   "outputs": [],
   "source": [
    "test_dir = 'csv_data/EyeQ/EyeQ_test.csv'\n",
    "test = pd.read_csv(test_dir)\n",
    "test.drop(test.columns[0], axis=1, inplace=True)\n",
    "total_num = len(test)\n",
    "np.random.seed(0)\n",
    "valid_index = np.random.randint(0, total_num, round(total_num*0.3))\n",
    "\n",
    "valid = test.loc[valid_index]\n",
    "valid.reset_index(drop=True, inplace=True)\n",
    "\n",
    "test.drop(valid_index, axis=0, inplace=True)\n",
    "test.reset_index(drop=True, inplace=True)\n",
    "\n",
    "valid.to_csv('csv_data/EyeQ/EyeQ_split_val.csv')\n",
    "test.to_csv('csv_data/EyeQ/EyeQ_split_test.csv')"
   ]
  },
  {
   "cell_type": "markdown",
   "id": "19b93949",
   "metadata": {},
   "source": [
    "-----------------------------------------------------------------------------------------------------------------"
   ]
  },
  {
   "cell_type": "markdown",
   "id": "50baf676",
   "metadata": {},
   "source": [
    "## TRAIN and TEST the adapted MCF-Net (regression) model"
   ]
  },
  {
   "cell_type": "markdown",
   "id": "a4e631ba",
   "metadata": {},
   "source": [
    "### All 5 loss functions are changed to MAE ('L1Loss') and sotmax removed from the last layer of each one of the 5 loss functions. "
   ]
  },
  {
   "cell_type": "code",
   "execution_count": 1,
   "id": "5925b400",
   "metadata": {},
   "outputs": [
    {
     "name": "stdout",
     "output_type": "stream",
     "text": [
      "Total params: 28.85M\n"
     ]
    },
    {
     "name": "stderr",
     "output_type": "stream",
     "text": [
      "\u001b[KProcessing train Epoch -> 1 / 30 |################################| 3136 / 3136 | Time: 0.02 mins | Loss: 0.3348  \n",
      "\u001b[?25h"
     ]
    },
    {
     "name": "stdout",
     "output_type": "stream",
     "text": [
      "Current Loss: 0.20545887516030675| Best Loss: inf at epoch: 0\n",
      "Model saved to ./MCF_Net/regression_model/DenseNet121_v3_v1.tar\n"
     ]
    },
    {
     "name": "stderr",
     "output_type": "stream",
     "text": [
      "\u001b[KProcessing train Epoch -> 2 / 30 |################################| 3136 / 3136 | Time: 0.00 mins | Loss: 0.2045  \n",
      "\u001b[?25h"
     ]
    },
    {
     "name": "stdout",
     "output_type": "stream",
     "text": [
      "Current Loss: 0.1365336193271452| Best Loss: 0.20545887516030675 at epoch: 0\n",
      "Model saved to ./MCF_Net/regression_model/DenseNet121_v3_v1.tar\n"
     ]
    },
    {
     "name": "stderr",
     "output_type": "stream",
     "text": [
      "\u001b[KProcessing train Epoch -> 3 / 30 |################################| 3136 / 3136 | Time: 0.00 mins | Loss: 0.1480  \n",
      "\u001b[?25h"
     ]
    },
    {
     "name": "stdout",
     "output_type": "stream",
     "text": [
      "Current Loss: 0.13031693100638939| Best Loss: 0.1365336193271452 at epoch: 1\n",
      "Model saved to ./MCF_Net/regression_model/DenseNet121_v3_v1.tar\n"
     ]
    },
    {
     "name": "stderr",
     "output_type": "stream",
     "text": [
      "\u001b[KProcessing train Epoch -> 4 / 30 |################################| 3136 / 3136 | Time: 0.00 mins | Loss: 0.3534  \n",
      "\u001b[?25h"
     ]
    },
    {
     "name": "stdout",
     "output_type": "stream",
     "text": [
      "Current Loss: 0.15176890362543072| Best Loss: 0.13031693100638939 at epoch: 2\n"
     ]
    },
    {
     "name": "stderr",
     "output_type": "stream",
     "text": [
      "\u001b[KProcessing train Epoch -> 5 / 30 |################################| 3136 / 3136 | Time: 0.00 mins | Loss: 0.0638  \n",
      "\u001b[?25h"
     ]
    },
    {
     "name": "stdout",
     "output_type": "stream",
     "text": [
      "Current Loss: 0.25707626360574765| Best Loss: 0.13031693100638939 at epoch: 2\n"
     ]
    },
    {
     "name": "stderr",
     "output_type": "stream",
     "text": [
      "\u001b[KProcessing train Epoch -> 6 / 30 |################################| 3136 / 3136 | Time: 0.00 mins | Loss: 0.1399  \n",
      "\u001b[?25h"
     ]
    },
    {
     "name": "stdout",
     "output_type": "stream",
     "text": [
      "Current Loss: 0.20088728401776315| Best Loss: 0.13031693100638939 at epoch: 2\n"
     ]
    },
    {
     "name": "stderr",
     "output_type": "stream",
     "text": [
      "\u001b[KProcessing train Epoch -> 7 / 30 |################################| 3136 / 3136 | Time: 0.00 mins | Loss: 0.1955  \n",
      "\u001b[?25h"
     ]
    },
    {
     "name": "stdout",
     "output_type": "stream",
     "text": [
      "Current Loss: 0.16168442809032896| Best Loss: 0.13031693100638939 at epoch: 2\n"
     ]
    },
    {
     "name": "stderr",
     "output_type": "stream",
     "text": [
      "\u001b[KProcessing train Epoch -> 8 / 30 |################################| 3136 / 3136 | Time: 0.00 mins | Loss: 0.1985  \n",
      "\u001b[?25h"
     ]
    },
    {
     "name": "stdout",
     "output_type": "stream",
     "text": [
      "Current Loss: 0.18873745791607943| Best Loss: 0.13031693100638939 at epoch: 2\n"
     ]
    },
    {
     "name": "stderr",
     "output_type": "stream",
     "text": [
      "\u001b[KProcessing train Epoch -> 9 / 30 |################################| 3136 / 3136 | Time: 0.00 mins | Loss: 0.1702  \n",
      "\u001b[?25h"
     ]
    },
    {
     "name": "stdout",
     "output_type": "stream",
     "text": [
      "Current Loss: 0.1184658408864043| Best Loss: 0.13031693100638939 at epoch: 2\n",
      "Model saved to ./MCF_Net/regression_model/DenseNet121_v3_v1.tar\n"
     ]
    },
    {
     "name": "stderr",
     "output_type": "stream",
     "text": [
      "\u001b[KProcessing train Epoch -> 10 / 30 |################################| 3136 / 3136 | Time: 0.00 mins | Loss: 0.1152  \n",
      "\u001b[?25h"
     ]
    },
    {
     "name": "stdout",
     "output_type": "stream",
     "text": [
      "Current Loss: 0.10834833857327565| Best Loss: 0.1184658408864043 at epoch: 8\n",
      "Model saved to ./MCF_Net/regression_model/DenseNet121_v3_v1.tar\n"
     ]
    },
    {
     "name": "stderr",
     "output_type": "stream",
     "text": [
      "\u001b[KProcessing train Epoch -> 11 / 30 |################################| 3136 / 3136 | Time: 0.00 mins | Loss: 0.1219  \n",
      "\u001b[?25h"
     ]
    },
    {
     "name": "stdout",
     "output_type": "stream",
     "text": [
      "Current Loss: 0.19920447870624466| Best Loss: 0.10834833857327565 at epoch: 9\n"
     ]
    },
    {
     "name": "stderr",
     "output_type": "stream",
     "text": [
      "\u001b[KProcessing train Epoch -> 12 / 30 |################################| 3136 / 3136 | Time: 0.00 mins | Loss: 0.1154  \n",
      "\u001b[?25h"
     ]
    },
    {
     "name": "stdout",
     "output_type": "stream",
     "text": [
      "Current Loss: 0.1329009530682291| Best Loss: 0.10834833857327565 at epoch: 9\n"
     ]
    },
    {
     "name": "stderr",
     "output_type": "stream",
     "text": [
      "\u001b[KProcessing train Epoch -> 13 / 30 |################################| 3136 / 3136 | Time: 0.00 mins | Loss: 0.1001  \n",
      "\u001b[?25h"
     ]
    },
    {
     "name": "stdout",
     "output_type": "stream",
     "text": [
      "Current Loss: 0.17263924072544726| Best Loss: 0.10834833857327565 at epoch: 9\n"
     ]
    },
    {
     "name": "stderr",
     "output_type": "stream",
     "text": [
      "\u001b[KProcessing train Epoch -> 14 / 30 |################################| 3136 / 3136 | Time: 0.00 mins | Loss: 0.1534  \n",
      "\u001b[?25h"
     ]
    },
    {
     "name": "stdout",
     "output_type": "stream",
     "text": [
      "Current Loss: 0.13358218465351834| Best Loss: 0.10834833857327565 at epoch: 9\n"
     ]
    },
    {
     "name": "stderr",
     "output_type": "stream",
     "text": [
      "\u001b[KProcessing train Epoch -> 15 / 30 |################################| 3136 / 3136 | Time: 0.00 mins | Loss: 0.1517  \n",
      "\u001b[?25h"
     ]
    },
    {
     "name": "stdout",
     "output_type": "stream",
     "text": [
      "Current Loss: 0.17379843000203396| Best Loss: 0.10834833857327565 at epoch: 9\n"
     ]
    },
    {
     "name": "stderr",
     "output_type": "stream",
     "text": [
      "\u001b[KProcessing train Epoch -> 16 / 30 |################################| 3136 / 3136 | Time: 0.00 mins | Loss: 0.2378  \n",
      "\u001b[?25h"
     ]
    },
    {
     "name": "stdout",
     "output_type": "stream",
     "text": [
      "Current Loss: 0.1150649810722518| Best Loss: 0.10834833857327565 at epoch: 9\n"
     ]
    },
    {
     "name": "stderr",
     "output_type": "stream",
     "text": [
      "\u001b[KProcessing train Epoch -> 17 / 30 |################################| 3136 / 3136 | Time: 0.00 mins | Loss: 0.1904  \n",
      "\u001b[?25h"
     ]
    },
    {
     "name": "stdout",
     "output_type": "stream",
     "text": [
      "Current Loss: 0.13483725731980004| Best Loss: 0.10834833857327565 at epoch: 9\n"
     ]
    },
    {
     "name": "stderr",
     "output_type": "stream",
     "text": [
      "\u001b[KProcessing train Epoch -> 18 / 30 |################################| 3136 / 3136 | Time: 0.00 mins | Loss: 0.1649  \n",
      "\u001b[?25h"
     ]
    },
    {
     "name": "stdout",
     "output_type": "stream",
     "text": [
      "Current Loss: 0.10525510751195725| Best Loss: 0.10834833857327565 at epoch: 9\n",
      "Model saved to ./MCF_Net/regression_model/DenseNet121_v3_v1.tar\n"
     ]
    },
    {
     "name": "stderr",
     "output_type": "stream",
     "text": [
      "\u001b[KProcessing train Epoch -> 19 / 30 |################################| 3136 / 3136 | Time: 0.00 mins | Loss: 0.1133  \n",
      "\u001b[?25h"
     ]
    },
    {
     "name": "stdout",
     "output_type": "stream",
     "text": [
      "Current Loss: 0.11496555765096016| Best Loss: 0.10525510751195725 at epoch: 17\n"
     ]
    },
    {
     "name": "stderr",
     "output_type": "stream",
     "text": [
      "\u001b[KProcessing train Epoch -> 20 / 30 |################################| 3136 / 3136 | Time: 0.00 mins | Loss: 0.1869  \n",
      "\u001b[?25h"
     ]
    },
    {
     "name": "stdout",
     "output_type": "stream",
     "text": [
      "Current Loss: 0.11929996330000711| Best Loss: 0.10525510751195725 at epoch: 17\n"
     ]
    },
    {
     "name": "stderr",
     "output_type": "stream",
     "text": [
      "\u001b[KProcessing train Epoch -> 21 / 30 |################################| 3136 / 3136 | Time: 0.00 mins | Loss: 0.2100  \n",
      "\u001b[?25h"
     ]
    },
    {
     "name": "stdout",
     "output_type": "stream",
     "text": [
      "Current Loss: 0.10710563542973785| Best Loss: 0.10525510751195725 at epoch: 17\n"
     ]
    },
    {
     "name": "stderr",
     "output_type": "stream",
     "text": [
      "\u001b[KProcessing train Epoch -> 22 / 30 |################################| 3136 / 3136 | Time: 0.00 mins | Loss: 0.1168  \n",
      "\u001b[?25h"
     ]
    },
    {
     "name": "stdout",
     "output_type": "stream",
     "text": [
      "Current Loss: 0.21162515554433478| Best Loss: 0.10525510751195725 at epoch: 17\n"
     ]
    },
    {
     "name": "stderr",
     "output_type": "stream",
     "text": [
      "\u001b[KProcessing train Epoch -> 23 / 30 |################################| 3136 / 3136 | Time: 0.00 mins | Loss: 0.1185  \n",
      "\u001b[?25h"
     ]
    },
    {
     "name": "stdout",
     "output_type": "stream",
     "text": [
      "Current Loss: 0.19106658040969904| Best Loss: 0.10525510751195725 at epoch: 17\n"
     ]
    },
    {
     "name": "stderr",
     "output_type": "stream",
     "text": [
      "\u001b[KProcessing train Epoch -> 24 / 30 |################################| 3136 / 3136 | Time: 0.00 mins | Loss: 0.2708  \n",
      "\u001b[?25h"
     ]
    },
    {
     "name": "stdout",
     "output_type": "stream",
     "text": [
      "Current Loss: 0.1069721187916802| Best Loss: 0.10525510751195725 at epoch: 17\n"
     ]
    },
    {
     "name": "stderr",
     "output_type": "stream",
     "text": [
      "\u001b[KProcessing train Epoch -> 25 / 30 |################################| 3136 / 3136 | Time: 0.00 mins | Loss: 0.1518  \n",
      "\u001b[?25h"
     ]
    },
    {
     "name": "stdout",
     "output_type": "stream",
     "text": [
      "Current Loss: 0.1330304656159041| Best Loss: 0.10525510751195725 at epoch: 17\n"
     ]
    },
    {
     "name": "stderr",
     "output_type": "stream",
     "text": [
      "\u001b[KProcessing train Epoch -> 26 / 30 |################################| 3136 / 3136 | Time: 0.00 mins | Loss: 0.1640  \n",
      "\u001b[?25h"
     ]
    },
    {
     "name": "stdout",
     "output_type": "stream",
     "text": [
      "Current Loss: 0.10557097509544239| Best Loss: 0.10525510751195725 at epoch: 17\n"
     ]
    },
    {
     "name": "stderr",
     "output_type": "stream",
     "text": [
      "\u001b[KProcessing train Epoch -> 27 / 30 |################################| 3136 / 3136 | Time: 0.00 mins | Loss: 0.1011  \n",
      "\u001b[?25h"
     ]
    },
    {
     "name": "stdout",
     "output_type": "stream",
     "text": [
      "Current Loss: 0.11157783585099368| Best Loss: 0.10525510751195725 at epoch: 17\n"
     ]
    },
    {
     "name": "stderr",
     "output_type": "stream",
     "text": [
      "\u001b[KProcessing train Epoch -> 28 / 30 |################################| 3136 / 3136 | Time: 0.00 mins | Loss: 0.1333  \n",
      "\u001b[?25h"
     ]
    },
    {
     "name": "stdout",
     "output_type": "stream",
     "text": [
      "Current Loss: 0.13420690770869903| Best Loss: 0.10525510751195725 at epoch: 17\n"
     ]
    },
    {
     "name": "stderr",
     "output_type": "stream",
     "text": [
      "\u001b[KProcessing train Epoch -> 29 / 30 |################################| 3136 / 3136 | Time: 0.00 mins | Loss: 0.2886  \n",
      "\u001b[?25h"
     ]
    },
    {
     "name": "stdout",
     "output_type": "stream",
     "text": [
      "Current Loss: 0.0966703128592983| Best Loss: 0.10525510751195725 at epoch: 17\n",
      "Model saved to ./MCF_Net/regression_model/DenseNet121_v3_v1.tar\n"
     ]
    },
    {
     "name": "stderr",
     "output_type": "stream",
     "text": [
      "\u001b[KProcessing train Epoch -> 30 / 30 |################################| 3136 / 3136 | Time: 0.00 mins | Loss: 0.0866  \n",
      "\u001b[?25h"
     ]
    },
    {
     "name": "stdout",
     "output_type": "stream",
     "text": [
      "Current Loss: 0.149669235589027| Best Loss: 0.0966703128592983 at epoch: 28\n"
     ]
    },
    {
     "name": "stderr",
     "output_type": "stream",
     "text": [
      "\u001b[KProcessing inference |################################| 3004 / 3004 | Time: 0.0014\n",
      "\u001b[?25h"
     ]
    },
    {
     "name": "stdout",
     "output_type": "stream",
     "text": [
      "MAE Loss on Test Set = 0.1540 \n",
      "Test Accuracy (cutoff:0.333 intervals) = 0.7337\n"
     ]
    }
   ],
   "source": [
    "%run MCF_Net/train_test --epochs 30"
   ]
  },
  {
   "cell_type": "markdown",
   "id": "73b2dc83",
   "metadata": {},
   "source": [
    "-----------------------------------------------------------------------------------------------------------------"
   ]
  },
  {
   "cell_type": "markdown",
   "id": "75c419f7",
   "metadata": {},
   "source": [
    "### Frequency of each quality label for each image in the entire EyePACS dataset (n=88,702) across different levels of DR severity\n",
    "### Do images with more severe DR tend to have poorer image quality? YES."
   ]
  },
  {
   "cell_type": "code",
   "execution_count": 5,
   "id": "7e9776d0",
   "metadata": {},
   "outputs": [
    {
     "data": {
      "image/png": "[encoded data removed]",
      "text/plain": [
       "<Figure size 720x360 with 1 Axes>"
      ]
     },
     "metadata": {
      "needs_background": "light"
     },
     "output_type": "display_data"
    },
    {
     "data": {
      "text/plain": [
       "<Figure size 432x288 with 0 Axes>"
      ]
     },
     "metadata": {},
     "output_type": "display_data"
    }
   ],
   "source": [
    "full_eyepacs = pd.read_csv('csv_data/EyePACS_prediction_results/full_eyepacs')\n",
    "\n",
    "fig = plt.figure(figsize=(10,5))\n",
    "ax = sns.countplot(data=full_eyepacs, x='DR', hue='categorical_quality', log=True)\n",
    "ax.spines[['top', 'left', 'bottom', 'right']].set_visible(False)\n",
    "ax.legend(['Good', 'Usable', 'Reject'], fontsize=20)\n",
    "\n",
    "plt.xlabel('DR Severity', fontsize=15)\n",
    "plt.xticks(fontsize=20)\n",
    "plt.ylabel('Count (log scale)', fontsize=20)\n",
    "plt.yticks(fontsize=20)\n",
    "\n",
    "plt.show()\n",
    "plt.tight_layout()\n",
    "fig.savefig('./experiment_plots/cat_quality_across_DR.pdf')\n"
   ]
  },
  {
   "cell_type": "markdown",
   "id": "7231acaa",
   "metadata": {},
   "source": [
    "### Distribution of (continuous) quality scores of all images in the EyePACS dataset (n=88,702) "
   ]
  },
  {
   "cell_type": "code",
   "execution_count": 6,
   "id": "565e846f",
   "metadata": {},
   "outputs": [
    {
     "data": {
      "image/png": "[encoded data removed]",
      "text/plain": [
       "<Figure size 504x360 with 1 Axes>"
      ]
     },
     "metadata": {
      "needs_background": "light"
     },
     "output_type": "display_data"
    },
    {
     "data": {
      "text/plain": [
       "<Figure size 432x288 with 0 Axes>"
      ]
     },
     "metadata": {},
     "output_type": "display_data"
    }
   ],
   "source": [
    "full_eyepacs = pd.read_csv('csv_data/EyePACS_prediction_results/full_eyepacs')\n",
    "fig = plt.figure(figsize=(7,5))\n",
    "\n",
    "sns.boxplot(x='DR', y='regression_quality', data=full_eyepacs).spines[['top', 'left', 'bottom', 'right']].set_visible(False)\n",
    "plt.xlabel('DR Severity', fontsize=20)\n",
    "plt.xticks(fontsize=15)\n",
    "plt.ylabel('Quality Scores', fontsize=20)\n",
    "plt.yticks(fontsize=20)\n",
    "\n",
    "plt.show()\n",
    "plt.tight_layout()\n",
    "fig.savefig('./experiment_plots/cont_quality_across_DR.pdf')"
   ]
  },
  {
   "cell_type": "markdown",
   "id": "d67c5439",
   "metadata": {},
   "source": [
    "### Distribution of continuous quality scores (of the entire EyePACS dataset, n=88,702) as predicted by the REGRESSION model and as represented by the SOFTMAX output of the original categorical model. Higher x value (closer to 1) corresponds to lower image quality."
   ]
  },
  {
   "cell_type": "code",
   "execution_count": 7,
   "id": "7df9ec56",
   "metadata": {},
   "outputs": [
    {
     "data": {
      "image/png": "[encoded data removed]",
      "text/plain": [
       "<Figure size 1080x360 with 2 Axes>"
      ]
     },
     "metadata": {
      "needs_background": "light"
     },
     "output_type": "display_data"
    }
   ],
   "source": [
    "# Read data; 'GT' = categorical ground-truth labels\n",
    "data = pd.read_csv('csv_data/EyePACS_prediction_results/full_eyepacs')\n",
    "\n",
    "# Function to configure subplot\n",
    "def plot_config(title):\n",
    "    ax.spines[['top', 'left', 'bottom', 'right']].set_visible(False)\n",
    "    plt.legend(('Reject (1)', 'Usable (0.5)', 'Good (0)'), fontsize=20)\n",
    "    plt.xlabel('Continuous Quality', fontsize=15)\n",
    "    plt.xticks(fontsize=20)\n",
    "    plt.ylabel('Count', fontsize=20)\n",
    "    plt.yticks(fontsize=20)\n",
    "    plt.title(title, fontsize=20)\n",
    "\n",
    "fig = plt.figure(figsize=(15,5))\n",
    "\n",
    "# First subplot\n",
    "plt.subplot(121)\n",
    "sns.set_context(rc = {'patch.linewidth': 0.0})\n",
    "ax=sns.histplot(data[data.categorical_quality == 'Reject'].regression_quality, color='red')\n",
    "sns.histplot(data[data.categorical_quality == 'Usable'].regression_quality, color='blue', alpha=0.5)\n",
    "sns.histplot(data[data.categorical_quality == 'Good'].regression_quality, color='green')\n",
    "plot_config(title='Regression Model')\n",
    "\n",
    "# Second subplot\n",
    "plt.subplot(122)\n",
    "ax = sns.histplot(data=data, x='reject_softmax', hue='categorical_quality', palette=['green', 'blue', 'red'], bins=40)\n",
    "plot_config(title='Softmax Output of the Classification Model')\n",
    "\n",
    "# Save figure\n",
    "plt.tight_layout()\n",
    "fig.savefig('./experiment_plots/regression_softmax_distribution.pdf')"
   ]
  },
  {
   "cell_type": "markdown",
   "id": "ac98f8a7",
   "metadata": {},
   "source": [
    "### Is there a good correlation b/w REGRESSION output and SOFTMAX output? NO."
   ]
  },
  {
   "cell_type": "code",
   "execution_count": 8,
   "id": "5140b10e",
   "metadata": {},
   "outputs": [
    {
     "data": {
      "image/png": "[encoded data removed]",
      "text/plain": [
       "<Figure size 432x288 with 1 Axes>"
      ]
     },
     "metadata": {
      "needs_background": "light"
     },
     "output_type": "display_data"
    }
   ],
   "source": [
    "ax = plt.subplot(111)\n",
    "ax.spines[['top', 'left', 'bottom', 'right']].set_visible(False)\n",
    "plt.scatter(data.regression_quality, data.reject_softmax, s=1)\n",
    "plt.title('Image Quality Predicted by Softmax Output vs Regression Output')\n",
    "plt.xlabel('Regression Output')\n",
    "plt.ylabel('Softmax Output')\n",
    "plt.show()\n",
    "\n",
    "fig.savefig('./experiment_plots/softmax_vs_regression.pdf')"
   ]
  },
  {
   "cell_type": "markdown",
   "id": "cd450387",
   "metadata": {},
   "source": [
    "------------------------------------------------------------------------------------------------------------------"
   ]
  },
  {
   "cell_type": "markdown",
   "id": "3b4a46fb",
   "metadata": {},
   "source": [
    "### Predict image quality (on a continuous scale) of each image in the entire EyePACS dataset (n=88,702)"
   ]
  },
  {
   "cell_type": "code",
   "execution_count": 1,
   "id": "afd1aaeb",
   "metadata": {},
   "outputs": [
    {
     "name": "stdout",
     "output_type": "stream",
     "text": [
      "Total params: 28.85M\n"
     ]
    },
    {
     "name": "stderr",
     "output_type": "stream",
     "text": [
      "\u001b[KProcessing inference |################################| 35126 / 35126 | Time: 0.00184Processing inference |#####                           | 6345 / 35126 | Time: 50.8683Processing inference |########                        | 9874 / 35126 | Time: 44.4476Processing inference |#########                       | 10036 / 35126 | Time: 44.3500Processing inference |############                    | 14137 / 35126 | Time: 39.0803Processing inference |#################               | 18684 / 35126 | Time: 29.0820Processing inference |########################        | 27120 / 35126 | Time: 14.1635Processing inference |#############################   | 32191 / 35126 | Time: 5.0529\n",
      "\u001b[?25h"
     ]
    }
   ],
   "source": [
    "%run MCF_Net/test --test_images_dir images/train --result_name csv_data/EyePACS_prediction_results/train_result"
   ]
  },
  {
   "cell_type": "code",
   "execution_count": 2,
   "id": "7748526f",
   "metadata": {},
   "outputs": [
    {
     "name": "stdout",
     "output_type": "stream",
     "text": [
      "Total params: 28.85M\n"
     ]
    },
    {
     "name": "stderr",
     "output_type": "stream",
     "text": [
      "\u001b[KProcessing inference |################################| 53576 / 53576 | Time: 0.002127rocessing inference |###                             | 6022 / 53576 | Time: 85.0777Processing inference |####                            | 8276 / 53576 | Time: 81.3325Processing inference |######                          | 10368 / 53576 | Time: 89.9276Processing inference |#######                         | 11924 / 53576 | Time: 74.4673Processing inference |########                        | 13605 / 53576 | Time: 71.1211Processing inference |##########                      | 16766 / 53576 | Time: 65.7053Processing inference |###########                     | 19798 / 53576 | Time: 70.2161Processing inference |############                    | 21062 / 53576 | Time: 58.1373Processing inference |##############                  | 23868 / 53576 | Time: 52.9954Processing inference |###############                 | 25358 / 53576 | Time: 50.1219Processing inference |################                | 27367 / 53576 | Time: 45.8970Processing inference |##################              | 31293 / 53576 | Time: 42.1424Processing inference |###################             | 33334 / 53576 | Time: 42.0320Processing inference |####################            | 34211 / 53576 | Time: 34.7527Processing inference |####################            | 34574 / 53576 | Time: 39.1325Processing inference |#####################           | 36087 / 53576 | Time: 31.3896Processing inference |########################        | 41465 / 53576 | Time: 21.6557Processing inference |#########################       | 42365 / 53576 | Time: 19.5102Processing inference |###########################     | 46242 / 53576 | Time: 13.0691Processing inference |###########################     | 46782 / 53576 | Time: 12.1903Processing inference |###########################     | 46794 / 53576 | Time: 11.9380Processing inference |##############################  | 51361 / 53576 | Time: 3.9064\n",
      "\u001b[?25h"
     ]
    }
   ],
   "source": [
    "%run MCF_Net/test --test_images_dir images/test --result_name csv_data/EyePACS_prediction_results/test_result"
   ]
  }
 ],
 "metadata": {
  "kernelspec": {
   "display_name": "Python 3 (ipykernel)",
   "language": "python",
   "name": "python3"
  },
  "language_info": {
   "codemirror_mode": {
    "name": "ipython",
    "version": 3
   },
   "file_extension": ".py",
   "mimetype": "text/x-python",
   "name": "python",
   "nbconvert_exporter": "python",
   "pygments_lexer": "ipython3",
   "version": "3.9.7"
  }
 },
 "nbformat": 4,
 "nbformat_minor": 5
}
